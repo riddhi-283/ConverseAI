{
 "cells": [
  {
   "cell_type": "code",
   "execution_count": 1,
   "metadata": {},
   "outputs": [],
   "source": [
    "!pip install streamlit, streamlit_chat, openai, langchain, sentence_transformers, openai, unstructured, unstructured[local-inference], pinecone-client"
   ]
  },
  {
   "cell_type": "code",
   "execution_count": 2,
   "metadata": {},
   "outputs": [
    {
     "data": {
      "text/plain": [
       "[Document(metadata={'source': 'pro-1.txt'}, page_content=\"The Vivobook 15, a multipurpose laptop with a 12th-generation Intel U-Series CPU, DDR4 memory, and PCIe 3.0 SSD storage, delivers remarkable performance for daily work. Its three-sided NanoEdge slim-bezel display offers breathtaking images, and its Dirac-designed audio system produces rich, immersive sound. The laptop has ASUS Antimicrobial Guard Plus for improved cleanliness, a comfortable ASUS ErgoSense keyboard, and rapid charging. In addition, it has a lay-flat hinge for effortless collaboration, a webcam privacy barrier, and several I/O ports for connection. The Vivobook 15 is dependable and fashionable, meeting US MIL-STD-810H military-grade durability requirements with its ASUS AI Noise-Canceling Technology and 3DNR for clearer video conversations.\\n\\nProduct Description:\\nFast-charging Battery Technology\\nNever worry about running out of battery during crucial tasks with this laptop's fast-charging technology. This feature charges your laptop to 60 per cent in just 49 minutes, ensuring minimal interruptions to your workflow. Whether you're catching up on the latest episode of your favourite show or rushing to meet a deadline, this laptop keeps you powered up and ready. Enjoy up to 8 hours of battery life, making it an ideal companion for both work and leisure activities.\\n\\n\\nExceptional Processing Power\\nWith this laptop, you can tackle any assignment effortlessly. Powered by the 12th Gen Intel Core i3 processor, this laptop offers remarkable processing capabilities, ensuring seamless and efficient performance. Whether you're editing documents, browsing the web, or running demanding applications, the Vivobook 15 handles it all with ease. The 8 GB DDR4 RAM allows for smooth multitasking, enabling swift programme switching. Additionally, the 512 GB PCIe 3.0 SSD storage ensures rapid system start-ups and quick app loading, enhancing your productivity.\\n\\n\\nImmersive Display Experience\\nThis laptop boasts a three-sided NanoEdge slim-bezel 38.96 cm display, delivering stunning clarity and a more immersive viewing experience. With a screen resolution of 1920 x 1080 pixels, enjoy sharp and vibrant visuals whether you're working on presentations, editing photos, or binge-watching shows. The broad viewing angles ensure the display remains clear even when viewed off-centre. Additionally, the TUV Rheinland eye-care certification guarantees low blue-light levels, reducing eye strain during extended periods of use.\\n\\n\\nConvenient and Stylish Design\\nDesigned for portability and style, this laptop is lightweight, and thin fits easily into any backpack, and can be carried with one hand. Its sleek design makes it a versatile companion, whether you're heading to a coffee shop, meeting, or working from home. This laptop's lay-flat hinge design enhances collaboration by allowing you to lay it flat for easy content sharing. Stay connected with a range of I/O ports, including USB 3.2 Type-A and Type-C ports, HDMI, and an audio combo jack, ensuring seamless connectivity for all your devices and peripherals.\\n\\n\\nSpecifications\\nGeneral\\nSales Package\\nLaptop, Power Adaptor, User Guide, Warranty Documents\\nModel Number\\nX1504ZA-NJ321WS\\nPart Number\\n90NB1021-M00580\\nModel Name\\nVivobook 15\\nSeries\\nVivobook 15, with Backlit Keyboard,\\nColor\\nQuiet Blue\\nType\\nThin and Light Laptop\\nSuitable For\\nTravel & Business\\nBattery Backup\\nUPTO 8 HRS\\nMS Office Provided\\nYes\\nProcessor And Memory Features\\nProcessor Brand\\nIntel\\nProcessor Name\\nCore i3\\nProcessor Generation\\n12th Gen\\nSSD\\nYes\\nSSD Capacity\\n512 GB\\nRAM\\n8 GB\\nRAM Type\\nDDR4\\nGraphic Processor\\nIntel Integrated Integrated IntelÂ® UHD Graphics\\nStorage Type\\nSSD\\nOperating System\\nOperating System\\nWindows 11 Home\\nDisplay And Audio Features\\nTouchscreen\\nNo\\nScreen Size\\n39.62 cm (15.6 Inch)\\nScreen Resolution\\n1920 x 1080 pixel\\nConnectivity Features\\nBluetooth\\nYES\\nAdditional Features\\nDisk Drive\\nNot Available\\nWarranty\\nWarranty Summary\\n1-year warranty\\nWarranty Service Type\\nOnsite\\nCovered in Warranty\\nManufacturing Defects\\nNot Covered in Warranty\\nPhysical Damage\")]"
      ]
     },
     "execution_count": 2,
     "metadata": {},
     "output_type": "execute_result"
    }
   ],
   "source": [
    "from langchain_community.document_loaders import TextLoader\n",
    "loader=TextLoader(\"pro-1.txt\")\n",
    "text_documents=loader.load()\n",
    "text_documents"
   ]
  },
  {
   "cell_type": "code",
   "execution_count": 3,
   "metadata": {},
   "outputs": [
    {
     "name": "stdout",
     "output_type": "stream",
     "text": [
      "24\n"
     ]
    }
   ],
   "source": [
    "from langchain.text_splitter import RecursiveCharacterTextSplitter\n",
    "\n",
    "def split_docs(documents,chunk_size=300,chunk_overlap=100):\n",
    "  text_splitter = RecursiveCharacterTextSplitter(chunk_size=chunk_size, chunk_overlap=chunk_overlap)\n",
    "  docs = text_splitter.split_documents(documents)\n",
    "  return docs\n",
    "\n",
    "docs = split_docs(text_documents)\n",
    "print(len(docs))\n"
   ]
  },
  {
   "cell_type": "code",
   "execution_count": 7,
   "metadata": {},
   "outputs": [
    {
     "data": {
      "text/plain": [
       "\"and vibrant visuals whether you're working on presentations, editing photos, or binge-watching shows. The broad viewing angles ensure the display remains clear even when viewed off-centre. Additionally, the TUV Rheinland eye-care certification guarantees low blue-light levels, reducing eye strain\""
      ]
     },
     "execution_count": 7,
     "metadata": {},
     "output_type": "execute_result"
    }
   ],
   "source": [
    "docs[13].page_content"
   ]
  },
  {
   "cell_type": "code",
   "execution_count": 15,
   "metadata": {},
   "outputs": [],
   "source": [
    "from langchain_openai import OpenAIEmbeddings\n",
    "embeddings = OpenAIEmbeddings(model=\"text-embedding-3-large\",api_key=\"\")"
   ]
  },
  {
   "cell_type": "code",
   "execution_count": 19,
   "metadata": {},
   "outputs": [
    {
     "data": {
      "text/plain": [
       "3072"
      ]
     },
     "execution_count": 19,
     "metadata": {},
     "output_type": "execute_result"
    }
   ],
   "source": [
    "query=\"what is its price?\"\n",
    "emb=embeddings.embed_query(query)\n",
    "len(emb)\n",
    "## all embeddings will be of size 3072 size only."
   ]
  },
  {
   "cell_type": "code",
   "execution_count": 27,
   "metadata": {},
   "outputs": [],
   "source": [
    "from langchain.vectorstores import FAISS\n",
    "vectordb = FAISS.from_documents(documents=docs,embedding=embeddings)"
   ]
  },
  {
   "cell_type": "code",
   "execution_count": 32,
   "metadata": {},
   "outputs": [
    {
     "name": "stdout",
     "output_type": "stream",
     "text": [
      "Specifications\n",
      "General\n",
      "Sales Package\n",
      "Laptop, Power Adaptor, User Guide, Warranty Documents\n",
      "Model Number\n",
      "X1504ZA-NJ321WS\n",
      "Part Number\n",
      "90NB1021-M00580\n",
      "Model Name\n",
      "Vivobook 15\n",
      "Series\n",
      "Vivobook 15, with Backlit Keyboard,\n",
      "Color\n",
      "Quiet Blue\n",
      "Type\n",
      "Thin and Light Laptop\n",
      "Suitable For\n",
      "Travel & Business\n"
     ]
    }
   ],
   "source": [
    "query=\"what about model name\"\n",
    "retireved_results=vectordb.similarity_search(query)\n",
    "print(retireved_results[0].page_content)"
   ]
  },
  {
   "cell_type": "code",
   "execution_count": 33,
   "metadata": {},
   "outputs": [
    {
     "name": "stderr",
     "output_type": "stream",
     "text": [
      "c:\\Users\\riddh\\Desktop\\AI-voice assitant\\venv\\lib\\site-packages\\langchain_core\\_api\\deprecation.py:141: LangChainDeprecationWarning: The method `BaseRetriever.get_relevant_documents` was deprecated in langchain-core 0.1.46 and will be removed in 1.0. Use invoke instead.\n",
      "  warn_deprecated(\n"
     ]
    },
    {
     "data": {
      "text/plain": [
       "[Document(metadata={'source': 'pro-1.txt'}, page_content='ASUS ErgoSense keyboard, and rapid charging. In addition, it has a lay-flat hinge for effortless collaboration, a webcam privacy barrier, and several I/O ports for connection. The Vivobook 15 is dependable and fashionable, meeting US MIL-STD-810H military-grade durability requirements with its ASUS'),\n",
       " Document(metadata={'source': 'pro-1.txt'}, page_content='slim-bezel display offers breathtaking images, and its Dirac-designed audio system produces rich, immersive sound. The laptop has ASUS Antimicrobial Guard Plus for improved cleanliness, a comfortable ASUS ErgoSense keyboard, and rapid charging. In addition, it has a lay-flat hinge for effortless'),\n",
       " Document(metadata={'source': 'pro-1.txt'}, page_content='Exceptional Processing Power'),\n",
       " Document(metadata={'source': 'pro-1.txt'}, page_content='and fashionable, meeting US MIL-STD-810H military-grade durability requirements with its ASUS AI Noise-Canceling Technology and 3DNR for clearer video conversations.')]"
      ]
     },
     "execution_count": 33,
     "metadata": {},
     "output_type": "execute_result"
    }
   ],
   "source": [
    "retriever = vectordb.as_retriever()\n",
    "rdocs = retriever.get_relevant_documents(\"features?\")\n",
    "rdocs"
   ]
  },
  {
   "cell_type": "code",
   "execution_count": 35,
   "metadata": {},
   "outputs": [],
   "source": [
    "from langchain_openai import ChatOpenAI\n",
    "llm = ChatOpenAI(model_name=\"gpt-3.5-turbo\", openai_api_key=\"\")"
   ]
  },
  {
   "cell_type": "code",
   "execution_count": 43,
   "metadata": {},
   "outputs": [],
   "source": [
    "from langchain.prompts import PromptTemplate\n",
    "\n",
    "prompt_template = \"\"\"Given the following context and a question, generate an answer based on this context only.\n",
    "Try to give as detailed answer as possible, like if user asks about details or features of the product then all the features/details in as much detail as possible.\n",
    "If the answer is not found in the context, kindly state \"I don't know.\" Don't try to make up an answer.\n",
    "\n",
    "CONTEXT: {context}\n",
    "\n",
    "QUESTION: {question}\"\"\"\n",
    "\n",
    "# the relevant docs we are pulling for our question is context\n",
    "\n",
    "PROMPT = PromptTemplate(\n",
    "    template=prompt_template, input_variables=[\"context\", \"question\"]\n",
    ")\n",
    "chain_type_kwargs = {\"prompt\": PROMPT}\n",
    "\n",
    "\n",
    "from langchain.chains import RetrievalQA\n",
    "\n",
    "chain = RetrievalQA.from_chain_type(llm=llm,\n",
    "                            chain_type=\"stuff\",\n",
    "                            retriever=retriever,\n",
    "                            input_key=\"query\",\n",
    "                            return_source_documents=True,\n",
    "                            chain_type_kwargs=chain_type_kwargs)\n"
   ]
  },
  {
   "cell_type": "code",
   "execution_count": 44,
   "metadata": {},
   "outputs": [
    {
     "data": {
      "text/plain": [
       "{'query': 'what are some of its features?',\n",
       " 'result': 'Some of the features of the ASUS Vivobook 15 include a slim-bezel display for breathtaking images, a Dirac-designed audio system for rich, immersive sound, ASUS Antimicrobial Guard Plus for improved cleanliness, an ASUS ErgoSense keyboard for comfort, rapid charging capability, a lay-flat hinge for effortless collaboration, a webcam privacy barrier, US MIL-STD-810H military-grade durability, lightweight and thin design for portability, versatile companion for various settings, and a range of I/O ports including USB 3.2 Type-A and Type-C ports, HDMI, and an audio combo jack.',\n",
       " 'source_documents': [Document(metadata={'source': 'pro-1.txt'}, page_content='slim-bezel display offers breathtaking images, and its Dirac-designed audio system produces rich, immersive sound. The laptop has ASUS Antimicrobial Guard Plus for improved cleanliness, a comfortable ASUS ErgoSense keyboard, and rapid charging. In addition, it has a lay-flat hinge for effortless'),\n",
       "  Document(metadata={'source': 'pro-1.txt'}, page_content='ASUS ErgoSense keyboard, and rapid charging. In addition, it has a lay-flat hinge for effortless collaboration, a webcam privacy barrier, and several I/O ports for connection. The Vivobook 15 is dependable and fashionable, meeting US MIL-STD-810H military-grade durability requirements with its ASUS'),\n",
       "  Document(metadata={'source': 'pro-1.txt'}, page_content=\"Designed for portability and style, this laptop is lightweight, and thin fits easily into any backpack, and can be carried with one hand. Its sleek design makes it a versatile companion, whether you're heading to a coffee shop, meeting, or working from home. This laptop's lay-flat hinge design\"),\n",
       "  Document(metadata={'source': 'pro-1.txt'}, page_content=\"you're heading to a coffee shop, meeting, or working from home. This laptop's lay-flat hinge design enhances collaboration by allowing you to lay it flat for easy content sharing. Stay connected with a range of I/O ports, including USB 3.2 Type-A and Type-C ports, HDMI, and an audio combo jack,\")]}"
      ]
     },
     "execution_count": 44,
     "metadata": {},
     "output_type": "execute_result"
    }
   ],
   "source": [
    "chain('what are some of its features?')"
   ]
  },
  {
   "cell_type": "code",
   "execution_count": 45,
   "metadata": {},
   "outputs": [
    {
     "data": {
      "text/plain": [
       "{'query': 'what about warranty?',\n",
       " 'result': 'The ASUS Vivobook 15 comes with a 1-year warranty with onsite service. The warranty covers manufacturing defects but does not cover physical damage.',\n",
       " 'source_documents': [Document(metadata={'source': 'pro-1.txt'}, page_content='Warranty\\nWarranty Summary\\n1-year warranty\\nWarranty Service Type\\nOnsite\\nCovered in Warranty\\nManufacturing Defects\\nNot Covered in Warranty\\nPhysical Damage'),\n",
       "  Document(metadata={'source': 'pro-1.txt'}, page_content='Windows 11 Home\\nDisplay And Audio Features\\nTouchscreen\\nNo\\nScreen Size\\n39.62 cm (15.6 Inch)\\nScreen Resolution\\n1920 x 1080 pixel\\nConnectivity Features\\nBluetooth\\nYES\\nAdditional Features\\nDisk Drive\\nNot Available\\nWarranty\\nWarranty Summary\\n1-year warranty\\nWarranty Service Type\\nOnsite\\nCovered in Warranty'),\n",
       "  Document(metadata={'source': 'pro-1.txt'}, page_content='the TUV Rheinland eye-care certification guarantees low blue-light levels, reducing eye strain during extended periods of use.'),\n",
       "  Document(metadata={'source': 'pro-1.txt'}, page_content='ASUS ErgoSense keyboard, and rapid charging. In addition, it has a lay-flat hinge for effortless collaboration, a webcam privacy barrier, and several I/O ports for connection. The Vivobook 15 is dependable and fashionable, meeting US MIL-STD-810H military-grade durability requirements with its ASUS')]}"
      ]
     },
     "execution_count": 45,
     "metadata": {},
     "output_type": "execute_result"
    }
   ],
   "source": [
    "chain(\"what about warranty?\")"
   ]
  },
  {
   "cell_type": "code",
   "execution_count": 46,
   "metadata": {},
   "outputs": [
    {
     "data": {
      "text/plain": [
       "{'query': 'what is model name, color, screen size, RAM type, storage, battery',\n",
       " 'result': 'Model Name: Vivobook 15\\nColor: Quiet Blue\\nScreen Size: 39.62 cm (15.6 Inch)\\nRAM Type: DDR4\\nStorage: SSD\\nBattery: Up to 8 hours',\n",
       " 'source_documents': [Document(metadata={'source': 'pro-1.txt'}, page_content='Color\\nQuiet Blue\\nType\\nThin and Light Laptop\\nSuitable For\\nTravel & Business\\nBattery Backup\\nUPTO 8 HRS\\nMS Office Provided\\nYes\\nProcessor And Memory Features\\nProcessor Brand\\nIntel\\nProcessor Name\\nCore i3\\nProcessor Generation\\n12th Gen\\nSSD\\nYes\\nSSD Capacity\\n512 GB\\nRAM\\n8 GB\\nRAM Type\\nDDR4\\nGraphic Processor'),\n",
       "  Document(metadata={'source': 'pro-1.txt'}, page_content='Processor Generation\\n12th Gen\\nSSD\\nYes\\nSSD Capacity\\n512 GB\\nRAM\\n8 GB\\nRAM Type\\nDDR4\\nGraphic Processor\\nIntel Integrated Integrated IntelÂ® UHD Graphics\\nStorage Type\\nSSD\\nOperating System\\nOperating System\\nWindows 11 Home\\nDisplay And Audio Features\\nTouchscreen\\nNo\\nScreen Size\\n39.62 cm (15.6 Inch)'),\n",
       "  Document(metadata={'source': 'pro-1.txt'}, page_content='Windows 11 Home\\nDisplay And Audio Features\\nTouchscreen\\nNo\\nScreen Size\\n39.62 cm (15.6 Inch)\\nScreen Resolution\\n1920 x 1080 pixel\\nConnectivity Features\\nBluetooth\\nYES\\nAdditional Features\\nDisk Drive\\nNot Available\\nWarranty\\nWarranty Summary\\n1-year warranty\\nWarranty Service Type\\nOnsite\\nCovered in Warranty'),\n",
       "  Document(metadata={'source': 'pro-1.txt'}, page_content='Specifications\\nGeneral\\nSales Package\\nLaptop, Power Adaptor, User Guide, Warranty Documents\\nModel Number\\nX1504ZA-NJ321WS\\nPart Number\\n90NB1021-M00580\\nModel Name\\nVivobook 15\\nSeries\\nVivobook 15, with Backlit Keyboard,\\nColor\\nQuiet Blue\\nType\\nThin and Light Laptop\\nSuitable For\\nTravel & Business')]}"
      ]
     },
     "execution_count": 46,
     "metadata": {},
     "output_type": "execute_result"
    }
   ],
   "source": [
    "chain(\"what is model name, color, screen size, RAM type, storage, battery\")"
   ]
  }
 ],
 "metadata": {
  "kernelspec": {
   "display_name": "venv",
   "language": "python",
   "name": "python3"
  },
  "language_info": {
   "codemirror_mode": {
    "name": "ipython",
    "version": 3
   },
   "file_extension": ".py",
   "mimetype": "text/x-python",
   "name": "python",
   "nbconvert_exporter": "python",
   "pygments_lexer": "ipython3",
   "version": "3.10.0"
  }
 },
 "nbformat": 4,
 "nbformat_minor": 2
}
